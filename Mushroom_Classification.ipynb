{
  "nbformat": 4,
  "nbformat_minor": 0,
  "metadata": {
    "colab": {
      "name": "Mushroom Classification.ipynb",
      "provenance": [],
      "collapsed_sections": [],
      "authorship_tag": "ABX9TyPa0vK+488Cczo78P4IvZad",
      "include_colab_link": true
    },
    "kernelspec": {
      "name": "python3",
      "display_name": "Python 3"
    },
    "language_info": {
      "name": "python"
    },
    "widgets": {
      "application/vnd.jupyter.widget-state+json": {
        "467275102672409ea97713c1cdcdca95": {
          "model_module": "jupyter-matplotlib",
          "model_name": "MPLCanvasModel",
          "model_module_version": "^0.11",
          "state": {
            "_cursor": "default",
            "_data_url": "data:image/png;base64,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",
            "_dom_classes": [],
            "_figure_label": "Figure 7",
            "_image_mode": "full",
            "_message": "x= y=1262.",
            "_model_module": "jupyter-matplotlib",
            "_model_module_version": "^0.11",
            "_model_name": "MPLCanvasModel",
            "_rubberband_height": 0,
            "_rubberband_width": 0,
            "_rubberband_x": 0,
            "_rubberband_y": 0,
            "_size": [
              840,
              490
            ],
            "_view_count": null,
            "_view_module": "jupyter-matplotlib",
            "_view_module_version": "^0.11",
            "_view_name": "MPLCanvasView",
            "capture_scroll": false,
            "footer_visible": true,
            "header_visible": true,
            "layout": "IPY_MODEL_13413ea1030941c5a0f98e7718f69a83",
            "pan_zoom_throttle": 33,
            "resizable": true,
            "toolbar": "IPY_MODEL_ac58d9a7279d40d8a5d6731705ae7af3",
            "toolbar_position": "left",
            "toolbar_visible": "fade-in-fade-out"
          }
        },
        "13413ea1030941c5a0f98e7718f69a83": {
          "model_module": "@jupyter-widgets/base",
          "model_name": "LayoutModel",
          "model_module_version": "1.2.0",
          "state": {
            "_model_module": "@jupyter-widgets/base",
            "_model_module_version": "1.2.0",
            "_model_name": "LayoutModel",
            "_view_count": null,
            "_view_module": "@jupyter-widgets/base",
            "_view_module_version": "1.2.0",
            "_view_name": "LayoutView",
            "align_content": null,
            "align_items": null,
            "align_self": null,
            "border": null,
            "bottom": null,
            "display": null,
            "flex": null,
            "flex_flow": null,
            "grid_area": null,
            "grid_auto_columns": null,
            "grid_auto_flow": null,
            "grid_auto_rows": null,
            "grid_column": null,
            "grid_gap": null,
            "grid_row": null,
            "grid_template_areas": null,
            "grid_template_columns": null,
            "grid_template_rows": null,
            "height": null,
            "justify_content": null,
            "justify_items": null,
            "left": null,
            "margin": null,
            "max_height": null,
            "max_width": null,
            "min_height": null,
            "min_width": null,
            "object_fit": null,
            "object_position": null,
            "order": null,
            "overflow": null,
            "overflow_x": null,
            "overflow_y": null,
            "padding": null,
            "right": null,
            "top": null,
            "visibility": null,
            "width": null
          }
        },
        "ac58d9a7279d40d8a5d6731705ae7af3": {
          "model_module": "jupyter-matplotlib",
          "model_name": "ToolbarModel",
          "model_module_version": "^0.11",
          "state": {
            "_current_action": "",
            "_dom_classes": [],
            "_model_module": "jupyter-matplotlib",
            "_model_module_version": "^0.11",
            "_model_name": "ToolbarModel",
            "_view_count": null,
            "_view_module": "jupyter-matplotlib",
            "_view_module_version": "^0.11",
            "_view_name": "ToolbarView",
            "button_style": "",
            "collapsed": true,
            "layout": "IPY_MODEL_1c8c0fef01c24414b3f0c4917e7f5dd6",
            "orientation": "vertical",
            "toolitems": [
              [
                "Home",
                "Reset original view",
                "home",
                "home"
              ],
              [
                "Back",
                "Back to previous view",
                "arrow-left",
                "back"
              ],
              [
                "Forward",
                "Forward to next view",
                "arrow-right",
                "forward"
              ],
              [
                "Pan",
                "Left button pans, Right button zooms\nx/y fixes axis, CTRL fixes aspect",
                "arrows",
                "pan"
              ],
              [
                "Zoom",
                "Zoom to rectangle\nx/y fixes axis",
                "square-o",
                "zoom"
              ],
              [
                "Download",
                "Download plot",
                "floppy-o",
                "save_figure"
              ]
            ]
          }
        },
        "1c8c0fef01c24414b3f0c4917e7f5dd6": {
          "model_module": "@jupyter-widgets/base",
          "model_name": "LayoutModel",
          "model_module_version": "1.2.0",
          "state": {
            "_model_module": "@jupyter-widgets/base",
            "_model_module_version": "1.2.0",
            "_model_name": "LayoutModel",
            "_view_count": null,
            "_view_module": "@jupyter-widgets/base",
            "_view_module_version": "1.2.0",
            "_view_name": "LayoutView",
            "align_content": null,
            "align_items": null,
            "align_self": null,
            "border": null,
            "bottom": null,
            "display": null,
            "flex": null,
            "flex_flow": null,
            "grid_area": null,
            "grid_auto_columns": null,
            "grid_auto_flow": null,
            "grid_auto_rows": null,
            "grid_column": null,
            "grid_gap": null,
            "grid_row": null,
            "grid_template_areas": null,
            "grid_template_columns": null,
            "grid_template_rows": null,
            "height": null,
            "justify_content": null,
            "justify_items": null,
            "left": null,
            "margin": null,
            "max_height": null,
            "max_width": null,
            "min_height": null,
            "min_width": null,
            "object_fit": null,
            "object_position": null,
            "order": null,
            "overflow": null,
            "overflow_x": null,
            "overflow_y": null,
            "padding": null,
            "right": null,
            "top": null,
            "visibility": null,
            "width": null
          }
        },
        "0c330578d46a433eb569c46d30e8dfb6": {
          "model_module": "@jupyter-widgets/base",
          "model_name": "LayoutModel",
          "model_module_version": "1.2.0",
          "state": {
            "_model_module": "@jupyter-widgets/base",
            "_model_module_version": "1.2.0",
            "_model_name": "LayoutModel",
            "_view_count": null,
            "_view_module": "@jupyter-widgets/base",
            "_view_module_version": "1.2.0",
            "_view_name": "LayoutView",
            "align_content": null,
            "align_items": null,
            "align_self": null,
            "border": null,
            "bottom": null,
            "display": null,
            "flex": null,
            "flex_flow": null,
            "grid_area": null,
            "grid_auto_columns": null,
            "grid_auto_flow": null,
            "grid_auto_rows": null,
            "grid_column": null,
            "grid_gap": null,
            "grid_row": null,
            "grid_template_areas": null,
            "grid_template_columns": null,
            "grid_template_rows": null,
            "height": null,
            "justify_content": null,
            "justify_items": null,
            "left": null,
            "margin": null,
            "max_height": null,
            "max_width": null,
            "min_height": null,
            "min_width": null,
            "object_fit": null,
            "object_position": null,
            "order": null,
            "overflow": null,
            "overflow_x": null,
            "overflow_y": null,
            "padding": null,
            "right": null,
            "top": null,
            "visibility": null,
            "width": null
          }
        },
        "d79b365ee0ad4dd8b44a04bb41be9275": {
          "model_module": "jupyter-matplotlib",
          "model_name": "ToolbarModel",
          "model_module_version": "^0.11",
          "state": {
            "_current_action": "",
            "_dom_classes": [],
            "_model_module": "jupyter-matplotlib",
            "_model_module_version": "^0.11",
            "_model_name": "ToolbarModel",
            "_view_count": null,
            "_view_module": "jupyter-matplotlib",
            "_view_module_version": "^0.11",
            "_view_name": "ToolbarView",
            "button_style": "",
            "collapsed": true,
            "layout": "IPY_MODEL_0c330578d46a433eb569c46d30e8dfb6",
            "orientation": "vertical",
            "toolitems": [
              [
                "Home",
                "Reset original view",
                "home",
                "home"
              ],
              [
                "Back",
                "Back to previous view",
                "arrow-left",
                "back"
              ],
              [
                "Forward",
                "Forward to next view",
                "arrow-right",
                "forward"
              ],
              [
                "Pan",
                "Left button pans, Right button zooms\nx/y fixes axis, CTRL fixes aspect",
                "arrows",
                "pan"
              ],
              [
                "Zoom",
                "Zoom to rectangle\nx/y fixes axis",
                "square-o",
                "zoom"
              ],
              [
                "Download",
                "Download plot",
                "floppy-o",
                "save_figure"
              ]
            ]
          }
        },
        "84b37439c960419681719ecace6880d4": {
          "model_module": "jupyter-matplotlib",
          "model_name": "MPLCanvasModel",
          "model_module_version": "^0.11",
          "state": {
            "_cursor": "default",
            "_data_url": "data:image/png;base64,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",
            "_dom_classes": [],
            "_figure_label": "Figure 9",
            "_image_mode": "full",
            "_message": "",
            "_model_module": "jupyter-matplotlib",
            "_model_module_version": "^0.11",
            "_model_name": "MPLCanvasModel",
            "_rubberband_height": 0,
            "_rubberband_width": 0,
            "_rubberband_x": 0,
            "_rubberband_y": 0,
            "_size": [
              840,
              490
            ],
            "_view_count": null,
            "_view_module": "jupyter-matplotlib",
            "_view_module_version": "^0.11",
            "_view_name": "MPLCanvasView",
            "capture_scroll": false,
            "footer_visible": true,
            "header_visible": true,
            "layout": "IPY_MODEL_e0e0d68dece349c297638f2bacbd183e",
            "pan_zoom_throttle": 33,
            "resizable": true,
            "toolbar": "IPY_MODEL_7ca18ab44a6c472ebf77403a97f52e56",
            "toolbar_position": "left",
            "toolbar_visible": "fade-in-fade-out"
          }
        },
        "e0e0d68dece349c297638f2bacbd183e": {
          "model_module": "@jupyter-widgets/base",
          "model_name": "LayoutModel",
          "model_module_version": "1.2.0",
          "state": {
            "_model_module": "@jupyter-widgets/base",
            "_model_module_version": "1.2.0",
            "_model_name": "LayoutModel",
            "_view_count": null,
            "_view_module": "@jupyter-widgets/base",
            "_view_module_version": "1.2.0",
            "_view_name": "LayoutView",
            "align_content": null,
            "align_items": null,
            "align_self": null,
            "border": null,
            "bottom": null,
            "display": null,
            "flex": null,
            "flex_flow": null,
            "grid_area": null,
            "grid_auto_columns": null,
            "grid_auto_flow": null,
            "grid_auto_rows": null,
            "grid_column": null,
            "grid_gap": null,
            "grid_row": null,
            "grid_template_areas": null,
            "grid_template_columns": null,
            "grid_template_rows": null,
            "height": null,
            "justify_content": null,
            "justify_items": null,
            "left": null,
            "margin": null,
            "max_height": null,
            "max_width": null,
            "min_height": null,
            "min_width": null,
            "object_fit": null,
            "object_position": null,
            "order": null,
            "overflow": null,
            "overflow_x": null,
            "overflow_y": null,
            "padding": null,
            "right": null,
            "top": null,
            "visibility": null,
            "width": null
          }
        },
        "7ca18ab44a6c472ebf77403a97f52e56": {
          "model_module": "jupyter-matplotlib",
          "model_name": "ToolbarModel",
          "model_module_version": "^0.11",
          "state": {
            "_current_action": "",
            "_dom_classes": [],
            "_model_module": "jupyter-matplotlib",
            "_model_module_version": "^0.11",
            "_model_name": "ToolbarModel",
            "_view_count": null,
            "_view_module": "jupyter-matplotlib",
            "_view_module_version": "^0.11",
            "_view_name": "ToolbarView",
            "button_style": "",
            "collapsed": true,
            "layout": "IPY_MODEL_d1f7e168611141cbbf5aa9efd957ac5a",
            "orientation": "vertical",
            "toolitems": [
              [
                "Home",
                "Reset original view",
                "home",
                "home"
              ],
              [
                "Back",
                "Back to previous view",
                "arrow-left",
                "back"
              ],
              [
                "Forward",
                "Forward to next view",
                "arrow-right",
                "forward"
              ],
              [
                "Pan",
                "Left button pans, Right button zooms\nx/y fixes axis, CTRL fixes aspect",
                "arrows",
                "pan"
              ],
              [
                "Zoom",
                "Zoom to rectangle\nx/y fixes axis",
                "square-o",
                "zoom"
              ],
              [
                "Download",
                "Download plot",
                "floppy-o",
                "save_figure"
              ]
            ]
          }
        },
        "d1f7e168611141cbbf5aa9efd957ac5a": {
          "model_module": "@jupyter-widgets/base",
          "model_name": "LayoutModel",
          "model_module_version": "1.2.0",
          "state": {
            "_model_module": "@jupyter-widgets/base",
            "_model_module_version": "1.2.0",
            "_model_name": "LayoutModel",
            "_view_count": null,
            "_view_module": "@jupyter-widgets/base",
            "_view_module_version": "1.2.0",
            "_view_name": "LayoutView",
            "align_content": null,
            "align_items": null,
            "align_self": null,
            "border": null,
            "bottom": null,
            "display": null,
            "flex": null,
            "flex_flow": null,
            "grid_area": null,
            "grid_auto_columns": null,
            "grid_auto_flow": null,
            "grid_auto_rows": null,
            "grid_column": null,
            "grid_gap": null,
            "grid_row": null,
            "grid_template_areas": null,
            "grid_template_columns": null,
            "grid_template_rows": null,
            "height": null,
            "justify_content": null,
            "justify_items": null,
            "left": null,
            "margin": null,
            "max_height": null,
            "max_width": null,
            "min_height": null,
            "min_width": null,
            "object_fit": null,
            "object_position": null,
            "order": null,
            "overflow": null,
            "overflow_x": null,
            "overflow_y": null,
            "padding": null,
            "right": null,
            "top": null,
            "visibility": null,
            "width": null
          }
        },
        "e34ddeb25f05429aa347d07ec7393b00": {
          "model_module": "@jupyter-widgets/base",
          "model_name": "LayoutModel",
          "model_module_version": "1.2.0",
          "state": {
            "_model_module": "@jupyter-widgets/base",
            "_model_module_version": "1.2.0",
            "_model_name": "LayoutModel",
            "_view_count": null,
            "_view_module": "@jupyter-widgets/base",
            "_view_module_version": "1.2.0",
            "_view_name": "LayoutView",
            "align_content": null,
            "align_items": null,
            "align_self": null,
            "border": null,
            "bottom": null,
            "display": null,
            "flex": null,
            "flex_flow": null,
            "grid_area": null,
            "grid_auto_columns": null,
            "grid_auto_flow": null,
            "grid_auto_rows": null,
            "grid_column": null,
            "grid_gap": null,
            "grid_row": null,
            "grid_template_areas": null,
            "grid_template_columns": null,
            "grid_template_rows": null,
            "height": null,
            "justify_content": null,
            "justify_items": null,
            "left": null,
            "margin": null,
            "max_height": null,
            "max_width": null,
            "min_height": null,
            "min_width": null,
            "object_fit": null,
            "object_position": null,
            "order": null,
            "overflow": null,
            "overflow_x": null,
            "overflow_y": null,
            "padding": null,
            "right": null,
            "top": null,
            "visibility": null,
            "width": null
          }
        },
        "10246b41aa594afaa4a89aa8d97d4b91": {
          "model_module": "jupyter-matplotlib",
          "model_name": "ToolbarModel",
          "model_module_version": "^0.11",
          "state": {
            "_current_action": "",
            "_dom_classes": [],
            "_model_module": "jupyter-matplotlib",
            "_model_module_version": "^0.11",
            "_model_name": "ToolbarModel",
            "_view_count": null,
            "_view_module": "jupyter-matplotlib",
            "_view_module_version": "^0.11",
            "_view_name": "ToolbarView",
            "button_style": "",
            "collapsed": true,
            "layout": "IPY_MODEL_e34ddeb25f05429aa347d07ec7393b00",
            "orientation": "vertical",
            "toolitems": [
              [
                "Home",
                "Reset original view",
                "home",
                "home"
              ],
              [
                "Back",
                "Back to previous view",
                "arrow-left",
                "back"
              ],
              [
                "Forward",
                "Forward to next view",
                "arrow-right",
                "forward"
              ],
              [
                "Pan",
                "Left button pans, Right button zooms\nx/y fixes axis, CTRL fixes aspect",
                "arrows",
                "pan"
              ],
              [
                "Zoom",
                "Zoom to rectangle\nx/y fixes axis",
                "square-o",
                "zoom"
              ],
              [
                "Download",
                "Download plot",
                "floppy-o",
                "save_figure"
              ]
            ]
          }
        }
      }
    }
  },
  "cells": [
    {
      "cell_type": "markdown",
      "metadata": {
        "id": "view-in-github",
        "colab_type": "text"
      },
      "source": [
        "<a href=\"https://colab.research.google.com/github/Yoris95/Mushroom_Classification/blob/main/Mushroom_Classification.ipynb\" target=\"_parent\"><img src=\"https://colab.research.google.com/assets/colab-badge.svg\" alt=\"Open In Colab\"/></a>"
      ]
    },
    {
      "cell_type": "markdown",
      "source": [
        "Phase 1 : **Data Collection**\n",
        "\n",
        "Question to ask?\n",
        "1. What kind of problem are we trying to solve? This data set is a secunder data, it includes descriptions of hypothetical samples corresponding to 23 species of gilled mushrooms in the Agaricus and Lepiota Family (pp. 500-525).  Each species is identified as definitely edible, definitely poisonous, or of unknown edibility and not recommended.  This latter class was combined with the poisonous one. The characteristics of mushrooms and edible ones are still very difficult to distinguish, so that they can trigger poisoning. Therefore, I am trying to use machine learning models to detect whether a mushroom is edible or poisonous.  \n",
        "\n",
        "2. What data sources already exist? Kaggle or UCI ML Repository\n",
        "3. What privacy concern are there? -\n",
        "4. Is the data public? Yes, it is\n",
        "5. Where should we store the data? Anywhere "
      ],
      "metadata": {
        "id": "fL-34SN_EpmZ"
      }
    },
    {
      "cell_type": "code",
      "execution_count": 1,
      "metadata": {
        "id": "Gv8ZWvaJ1iEl"
      },
      "outputs": [],
      "source": [
        "import pandas as pd"
      ]
    },
    {
      "cell_type": "code",
      "source": [
        "# Get the data\n",
        "df = pd.read_csv('agaricus-lepiota.csv', header = None)"
      ],
      "metadata": {
        "id": "crskXr4A2Guh"
      },
      "execution_count": 2,
      "outputs": []
    },
    {
      "cell_type": "markdown",
      "source": [
        "Phase 2: **Data Preparation**\n",
        "1. Exploratory Data Analysis (EDA)\n",
        "2. Data Preprocessing\n",
        "3. Data Splitting"
      ],
      "metadata": {
        "id": "H-iQSZjyDCfg"
      }
    },
    {
      "cell_type": "markdown",
      "source": [
        "**Exploratory Data Analysis (EDA)**\n",
        "\n",
        "Question to ask?\n",
        "1. What are the feature variables and target variables? \n",
        "2. What kind of data do you have?\n",
        "3. Are there missing values? Should you remove them or fill them with feature imputation?\n",
        "4. Where are the outliers? How many of them are there?\n",
        "5. Are there questions you could ask a domain expert about the data? \n",
        "\n"
      ],
      "metadata": {
        "id": "Jd1pwOEmJbfl"
      }
    },
    {
      "cell_type": "code",
      "source": [
        "# Rename all the columns\n",
        "df.rename(columns={0 : 'class', 1 :'cap-shape', 2 :'cap-surface', 3 :'cap-color', 4 :'bruises', 5 :'odor',\n",
        "                            6 :'gill-attachment', 7 :'gill-spacing', 8 :'gill-size', 9 :'gill-color',\n",
        "                     10 :'stalk-shape', 11 :'stalk-root', 12 :'stalk-surface-above-ring', 13 :'stalk-surface-below-ring',\n",
        "                     14 :'stalk-color-above-ring', 15 :'stalk-color-below-ring', 16 :'veil-type', 17:'veil-color', \n",
        "                     18:'ring-number', 19:'ring-type', 20:'spore-print-color', 21:'population', 22:'habitat'}, inplace=True)"
      ],
      "metadata": {
        "id": "SEz2O4kG2gvx"
      },
      "execution_count": 3,
      "outputs": []
    },
    {
      "cell_type": "code",
      "source": [
        "df.columns"
      ],
      "metadata": {
        "colab": {
          "base_uri": "https://localhost:8080/"
        },
        "id": "2rkDmrUg7DzG",
        "outputId": "73afa318-e733-4cef-a291-39e876956227"
      },
      "execution_count": 4,
      "outputs": [
        {
          "output_type": "execute_result",
          "data": {
            "text/plain": [
              "Index(['class', 'cap-shape', 'cap-surface', 'cap-color', 'bruises', 'odor',\n",
              "       'gill-attachment', 'gill-spacing', 'gill-size', 'gill-color',\n",
              "       'stalk-shape', 'stalk-root', 'stalk-surface-above-ring',\n",
              "       'stalk-surface-below-ring', 'stalk-color-above-ring',\n",
              "       'stalk-color-below-ring', 'veil-type', 'veil-color', 'ring-number',\n",
              "       'ring-type', 'spore-print-color', 'population', 'habitat'],\n",
              "      dtype='object')"
            ]
          },
          "metadata": {},
          "execution_count": 4
        }
      ]
    },
    {
      "cell_type": "code",
      "source": [
        "df.head()"
      ],
      "metadata": {
        "colab": {
          "base_uri": "https://localhost:8080/",
          "height": 351
        },
        "id": "p9etXSYx-SXf",
        "outputId": "82435fb2-aa56-4af0-9805-56926128d2ca"
      },
      "execution_count": 5,
      "outputs": [
        {
          "output_type": "execute_result",
          "data": {
            "text/plain": [
              "  class cap-shape cap-surface cap-color bruises odor gill-attachment  \\\n",
              "0     p         x           s         n       t    p               f   \n",
              "1     e         x           s         y       t    a               f   \n",
              "2     e         b           s         w       t    l               f   \n",
              "3     p         x           y         w       t    p               f   \n",
              "4     e         x           s         g       f    n               f   \n",
              "\n",
              "  gill-spacing gill-size gill-color  ... stalk-surface-below-ring  \\\n",
              "0            c         n          k  ...                        s   \n",
              "1            c         b          k  ...                        s   \n",
              "2            c         b          n  ...                        s   \n",
              "3            c         n          n  ...                        s   \n",
              "4            w         b          k  ...                        s   \n",
              "\n",
              "  stalk-color-above-ring stalk-color-below-ring veil-type veil-color  \\\n",
              "0                      w                      w         p          w   \n",
              "1                      w                      w         p          w   \n",
              "2                      w                      w         p          w   \n",
              "3                      w                      w         p          w   \n",
              "4                      w                      w         p          w   \n",
              "\n",
              "  ring-number ring-type spore-print-color population habitat  \n",
              "0           o         p                 k          s       u  \n",
              "1           o         p                 n          n       g  \n",
              "2           o         p                 n          n       m  \n",
              "3           o         p                 k          s       u  \n",
              "4           o         e                 n          a       g  \n",
              "\n",
              "[5 rows x 23 columns]"
            ],
            "text/html": [
              "\n",
              "  <div id=\"df-d85eb994-ea61-4370-bb6b-d45140791aec\">\n",
              "    <div class=\"colab-df-container\">\n",
              "      <div>\n",
              "<style scoped>\n",
              "    .dataframe tbody tr th:only-of-type {\n",
              "        vertical-align: middle;\n",
              "    }\n",
              "\n",
              "    .dataframe tbody tr th {\n",
              "        vertical-align: top;\n",
              "    }\n",
              "\n",
              "    .dataframe thead th {\n",
              "        text-align: right;\n",
              "    }\n",
              "</style>\n",
              "<table border=\"1\" class=\"dataframe\">\n",
              "  <thead>\n",
              "    <tr style=\"text-align: right;\">\n",
              "      <th></th>\n",
              "      <th>class</th>\n",
              "      <th>cap-shape</th>\n",
              "      <th>cap-surface</th>\n",
              "      <th>cap-color</th>\n",
              "      <th>bruises</th>\n",
              "      <th>odor</th>\n",
              "      <th>gill-attachment</th>\n",
              "      <th>gill-spacing</th>\n",
              "      <th>gill-size</th>\n",
              "      <th>gill-color</th>\n",
              "      <th>...</th>\n",
              "      <th>stalk-surface-below-ring</th>\n",
              "      <th>stalk-color-above-ring</th>\n",
              "      <th>stalk-color-below-ring</th>\n",
              "      <th>veil-type</th>\n",
              "      <th>veil-color</th>\n",
              "      <th>ring-number</th>\n",
              "      <th>ring-type</th>\n",
              "      <th>spore-print-color</th>\n",
              "      <th>population</th>\n",
              "      <th>habitat</th>\n",
              "    </tr>\n",
              "  </thead>\n",
              "  <tbody>\n",
              "    <tr>\n",
              "      <th>0</th>\n",
              "      <td>p</td>\n",
              "      <td>x</td>\n",
              "      <td>s</td>\n",
              "      <td>n</td>\n",
              "      <td>t</td>\n",
              "      <td>p</td>\n",
              "      <td>f</td>\n",
              "      <td>c</td>\n",
              "      <td>n</td>\n",
              "      <td>k</td>\n",
              "      <td>...</td>\n",
              "      <td>s</td>\n",
              "      <td>w</td>\n",
              "      <td>w</td>\n",
              "      <td>p</td>\n",
              "      <td>w</td>\n",
              "      <td>o</td>\n",
              "      <td>p</td>\n",
              "      <td>k</td>\n",
              "      <td>s</td>\n",
              "      <td>u</td>\n",
              "    </tr>\n",
              "    <tr>\n",
              "      <th>1</th>\n",
              "      <td>e</td>\n",
              "      <td>x</td>\n",
              "      <td>s</td>\n",
              "      <td>y</td>\n",
              "      <td>t</td>\n",
              "      <td>a</td>\n",
              "      <td>f</td>\n",
              "      <td>c</td>\n",
              "      <td>b</td>\n",
              "      <td>k</td>\n",
              "      <td>...</td>\n",
              "      <td>s</td>\n",
              "      <td>w</td>\n",
              "      <td>w</td>\n",
              "      <td>p</td>\n",
              "      <td>w</td>\n",
              "      <td>o</td>\n",
              "      <td>p</td>\n",
              "      <td>n</td>\n",
              "      <td>n</td>\n",
              "      <td>g</td>\n",
              "    </tr>\n",
              "    <tr>\n",
              "      <th>2</th>\n",
              "      <td>e</td>\n",
              "      <td>b</td>\n",
              "      <td>s</td>\n",
              "      <td>w</td>\n",
              "      <td>t</td>\n",
              "      <td>l</td>\n",
              "      <td>f</td>\n",
              "      <td>c</td>\n",
              "      <td>b</td>\n",
              "      <td>n</td>\n",
              "      <td>...</td>\n",
              "      <td>s</td>\n",
              "      <td>w</td>\n",
              "      <td>w</td>\n",
              "      <td>p</td>\n",
              "      <td>w</td>\n",
              "      <td>o</td>\n",
              "      <td>p</td>\n",
              "      <td>n</td>\n",
              "      <td>n</td>\n",
              "      <td>m</td>\n",
              "    </tr>\n",
              "    <tr>\n",
              "      <th>3</th>\n",
              "      <td>p</td>\n",
              "      <td>x</td>\n",
              "      <td>y</td>\n",
              "      <td>w</td>\n",
              "      <td>t</td>\n",
              "      <td>p</td>\n",
              "      <td>f</td>\n",
              "      <td>c</td>\n",
              "      <td>n</td>\n",
              "      <td>n</td>\n",
              "      <td>...</td>\n",
              "      <td>s</td>\n",
              "      <td>w</td>\n",
              "      <td>w</td>\n",
              "      <td>p</td>\n",
              "      <td>w</td>\n",
              "      <td>o</td>\n",
              "      <td>p</td>\n",
              "      <td>k</td>\n",
              "      <td>s</td>\n",
              "      <td>u</td>\n",
              "    </tr>\n",
              "    <tr>\n",
              "      <th>4</th>\n",
              "      <td>e</td>\n",
              "      <td>x</td>\n",
              "      <td>s</td>\n",
              "      <td>g</td>\n",
              "      <td>f</td>\n",
              "      <td>n</td>\n",
              "      <td>f</td>\n",
              "      <td>w</td>\n",
              "      <td>b</td>\n",
              "      <td>k</td>\n",
              "      <td>...</td>\n",
              "      <td>s</td>\n",
              "      <td>w</td>\n",
              "      <td>w</td>\n",
              "      <td>p</td>\n",
              "      <td>w</td>\n",
              "      <td>o</td>\n",
              "      <td>e</td>\n",
              "      <td>n</td>\n",
              "      <td>a</td>\n",
              "      <td>g</td>\n",
              "    </tr>\n",
              "  </tbody>\n",
              "</table>\n",
              "<p>5 rows × 23 columns</p>\n",
              "</div>\n",
              "      <button class=\"colab-df-convert\" onclick=\"convertToInteractive('df-d85eb994-ea61-4370-bb6b-d45140791aec')\"\n",
              "              title=\"Convert this dataframe to an interactive table.\"\n",
              "              style=\"display:none;\">\n",
              "        \n",
              "  <svg xmlns=\"http://www.w3.org/2000/svg\" height=\"24px\"viewBox=\"0 0 24 24\"\n",
              "       width=\"24px\">\n",
              "    <path d=\"M0 0h24v24H0V0z\" fill=\"none\"/>\n",
              "    <path d=\"M18.56 5.44l.94 2.06.94-2.06 2.06-.94-2.06-.94-.94-2.06-.94 2.06-2.06.94zm-11 1L8.5 8.5l.94-2.06 2.06-.94-2.06-.94L8.5 2.5l-.94 2.06-2.06.94zm10 10l.94 2.06.94-2.06 2.06-.94-2.06-.94-.94-2.06-.94 2.06-2.06.94z\"/><path d=\"M17.41 7.96l-1.37-1.37c-.4-.4-.92-.59-1.43-.59-.52 0-1.04.2-1.43.59L10.3 9.45l-7.72 7.72c-.78.78-.78 2.05 0 2.83L4 21.41c.39.39.9.59 1.41.59.51 0 1.02-.2 1.41-.59l7.78-7.78 2.81-2.81c.8-.78.8-2.07 0-2.86zM5.41 20L4 18.59l7.72-7.72 1.47 1.35L5.41 20z\"/>\n",
              "  </svg>\n",
              "      </button>\n",
              "      \n",
              "  <style>\n",
              "    .colab-df-container {\n",
              "      display:flex;\n",
              "      flex-wrap:wrap;\n",
              "      gap: 12px;\n",
              "    }\n",
              "\n",
              "    .colab-df-convert {\n",
              "      background-color: #E8F0FE;\n",
              "      border: none;\n",
              "      border-radius: 50%;\n",
              "      cursor: pointer;\n",
              "      display: none;\n",
              "      fill: #1967D2;\n",
              "      height: 32px;\n",
              "      padding: 0 0 0 0;\n",
              "      width: 32px;\n",
              "    }\n",
              "\n",
              "    .colab-df-convert:hover {\n",
              "      background-color: #E2EBFA;\n",
              "      box-shadow: 0px 1px 2px rgba(60, 64, 67, 0.3), 0px 1px 3px 1px rgba(60, 64, 67, 0.15);\n",
              "      fill: #174EA6;\n",
              "    }\n",
              "\n",
              "    [theme=dark] .colab-df-convert {\n",
              "      background-color: #3B4455;\n",
              "      fill: #D2E3FC;\n",
              "    }\n",
              "\n",
              "    [theme=dark] .colab-df-convert:hover {\n",
              "      background-color: #434B5C;\n",
              "      box-shadow: 0px 1px 3px 1px rgba(0, 0, 0, 0.15);\n",
              "      filter: drop-shadow(0px 1px 2px rgba(0, 0, 0, 0.3));\n",
              "      fill: #FFFFFF;\n",
              "    }\n",
              "  </style>\n",
              "\n",
              "      <script>\n",
              "        const buttonEl =\n",
              "          document.querySelector('#df-d85eb994-ea61-4370-bb6b-d45140791aec button.colab-df-convert');\n",
              "        buttonEl.style.display =\n",
              "          google.colab.kernel.accessAllowed ? 'block' : 'none';\n",
              "\n",
              "        async function convertToInteractive(key) {\n",
              "          const element = document.querySelector('#df-d85eb994-ea61-4370-bb6b-d45140791aec');\n",
              "          const dataTable =\n",
              "            await google.colab.kernel.invokeFunction('convertToInteractive',\n",
              "                                                     [key], {});\n",
              "          if (!dataTable) return;\n",
              "\n",
              "          const docLinkHtml = 'Like what you see? Visit the ' +\n",
              "            '<a target=\"_blank\" href=https://colab.research.google.com/notebooks/data_table.ipynb>data table notebook</a>'\n",
              "            + ' to learn more about interactive tables.';\n",
              "          element.innerHTML = '';\n",
              "          dataTable['output_type'] = 'display_data';\n",
              "          await google.colab.output.renderOutput(dataTable, element);\n",
              "          const docLink = document.createElement('div');\n",
              "          docLink.innerHTML = docLinkHtml;\n",
              "          element.appendChild(docLink);\n",
              "        }\n",
              "      </script>\n",
              "    </div>\n",
              "  </div>\n",
              "  "
            ]
          },
          "metadata": {},
          "execution_count": 5
        }
      ]
    },
    {
      "cell_type": "code",
      "source": [
        "df.dtypes"
      ],
      "metadata": {
        "colab": {
          "base_uri": "https://localhost:8080/"
        },
        "id": "3WDKaFrSLJDe",
        "outputId": "564b021a-f707-4064-9473-703d3b50b4e7"
      },
      "execution_count": 6,
      "outputs": [
        {
          "output_type": "execute_result",
          "data": {
            "text/plain": [
              "class                       object\n",
              "cap-shape                   object\n",
              "cap-surface                 object\n",
              "cap-color                   object\n",
              "bruises                     object\n",
              "odor                        object\n",
              "gill-attachment             object\n",
              "gill-spacing                object\n",
              "gill-size                   object\n",
              "gill-color                  object\n",
              "stalk-shape                 object\n",
              "stalk-root                  object\n",
              "stalk-surface-above-ring    object\n",
              "stalk-surface-below-ring    object\n",
              "stalk-color-above-ring      object\n",
              "stalk-color-below-ring      object\n",
              "veil-type                   object\n",
              "veil-color                  object\n",
              "ring-number                 object\n",
              "ring-type                   object\n",
              "spore-print-color           object\n",
              "population                  object\n",
              "habitat                     object\n",
              "dtype: object"
            ]
          },
          "metadata": {},
          "execution_count": 6
        }
      ]
    },
    {
      "cell_type": "code",
      "source": [
        "df.shape"
      ],
      "metadata": {
        "colab": {
          "base_uri": "https://localhost:8080/"
        },
        "id": "xcFWwKddLed2",
        "outputId": "1732e7fc-70ae-461f-d92f-941e96d9dc59"
      },
      "execution_count": 7,
      "outputs": [
        {
          "output_type": "execute_result",
          "data": {
            "text/plain": [
              "(8124, 23)"
            ]
          },
          "metadata": {},
          "execution_count": 7
        }
      ]
    },
    {
      "cell_type": "code",
      "source": [
        "df.describe()"
      ],
      "metadata": {
        "colab": {
          "base_uri": "https://localhost:8080/",
          "height": 320
        },
        "id": "_rxuIh8ELhBs",
        "outputId": "ce3f8be4-af6b-46e3-d968-5720f9eaed42"
      },
      "execution_count": 8,
      "outputs": [
        {
          "output_type": "execute_result",
          "data": {
            "text/plain": [
              "       class cap-shape cap-surface cap-color bruises  odor gill-attachment  \\\n",
              "count   8124      8124        8124      8124    8124  8124            8124   \n",
              "unique     2         6           4        10       2     9               2   \n",
              "top        e         x           y         n       f     n               f   \n",
              "freq    4208      3656        3244      2284    4748  3528            7914   \n",
              "\n",
              "       gill-spacing gill-size gill-color  ... stalk-surface-below-ring  \\\n",
              "count          8124      8124       8124  ...                     8124   \n",
              "unique            2         2         12  ...                        4   \n",
              "top               c         b          b  ...                        s   \n",
              "freq           6812      5612       1728  ...                     4936   \n",
              "\n",
              "       stalk-color-above-ring stalk-color-below-ring veil-type veil-color  \\\n",
              "count                    8124                   8124      8124       8124   \n",
              "unique                      9                      9         1          4   \n",
              "top                         w                      w         p          w   \n",
              "freq                     4464                   4384      8124       7924   \n",
              "\n",
              "       ring-number ring-type spore-print-color population habitat  \n",
              "count         8124      8124              8124       8124    8124  \n",
              "unique           3         5                 9          6       7  \n",
              "top              o         p                 w          v       d  \n",
              "freq          7488      3968              2388       4040    3148  \n",
              "\n",
              "[4 rows x 23 columns]"
            ],
            "text/html": [
              "\n",
              "  <div id=\"df-f82360f7-1b17-4c15-936f-2eba0b3ca1f5\">\n",
              "    <div class=\"colab-df-container\">\n",
              "      <div>\n",
              "<style scoped>\n",
              "    .dataframe tbody tr th:only-of-type {\n",
              "        vertical-align: middle;\n",
              "    }\n",
              "\n",
              "    .dataframe tbody tr th {\n",
              "        vertical-align: top;\n",
              "    }\n",
              "\n",
              "    .dataframe thead th {\n",
              "        text-align: right;\n",
              "    }\n",
              "</style>\n",
              "<table border=\"1\" class=\"dataframe\">\n",
              "  <thead>\n",
              "    <tr style=\"text-align: right;\">\n",
              "      <th></th>\n",
              "      <th>class</th>\n",
              "      <th>cap-shape</th>\n",
              "      <th>cap-surface</th>\n",
              "      <th>cap-color</th>\n",
              "      <th>bruises</th>\n",
              "      <th>odor</th>\n",
              "      <th>gill-attachment</th>\n",
              "      <th>gill-spacing</th>\n",
              "      <th>gill-size</th>\n",
              "      <th>gill-color</th>\n",
              "      <th>...</th>\n",
              "      <th>stalk-surface-below-ring</th>\n",
              "      <th>stalk-color-above-ring</th>\n",
              "      <th>stalk-color-below-ring</th>\n",
              "      <th>veil-type</th>\n",
              "      <th>veil-color</th>\n",
              "      <th>ring-number</th>\n",
              "      <th>ring-type</th>\n",
              "      <th>spore-print-color</th>\n",
              "      <th>population</th>\n",
              "      <th>habitat</th>\n",
              "    </tr>\n",
              "  </thead>\n",
              "  <tbody>\n",
              "    <tr>\n",
              "      <th>count</th>\n",
              "      <td>8124</td>\n",
              "      <td>8124</td>\n",
              "      <td>8124</td>\n",
              "      <td>8124</td>\n",
              "      <td>8124</td>\n",
              "      <td>8124</td>\n",
              "      <td>8124</td>\n",
              "      <td>8124</td>\n",
              "      <td>8124</td>\n",
              "      <td>8124</td>\n",
              "      <td>...</td>\n",
              "      <td>8124</td>\n",
              "      <td>8124</td>\n",
              "      <td>8124</td>\n",
              "      <td>8124</td>\n",
              "      <td>8124</td>\n",
              "      <td>8124</td>\n",
              "      <td>8124</td>\n",
              "      <td>8124</td>\n",
              "      <td>8124</td>\n",
              "      <td>8124</td>\n",
              "    </tr>\n",
              "    <tr>\n",
              "      <th>unique</th>\n",
              "      <td>2</td>\n",
              "      <td>6</td>\n",
              "      <td>4</td>\n",
              "      <td>10</td>\n",
              "      <td>2</td>\n",
              "      <td>9</td>\n",
              "      <td>2</td>\n",
              "      <td>2</td>\n",
              "      <td>2</td>\n",
              "      <td>12</td>\n",
              "      <td>...</td>\n",
              "      <td>4</td>\n",
              "      <td>9</td>\n",
              "      <td>9</td>\n",
              "      <td>1</td>\n",
              "      <td>4</td>\n",
              "      <td>3</td>\n",
              "      <td>5</td>\n",
              "      <td>9</td>\n",
              "      <td>6</td>\n",
              "      <td>7</td>\n",
              "    </tr>\n",
              "    <tr>\n",
              "      <th>top</th>\n",
              "      <td>e</td>\n",
              "      <td>x</td>\n",
              "      <td>y</td>\n",
              "      <td>n</td>\n",
              "      <td>f</td>\n",
              "      <td>n</td>\n",
              "      <td>f</td>\n",
              "      <td>c</td>\n",
              "      <td>b</td>\n",
              "      <td>b</td>\n",
              "      <td>...</td>\n",
              "      <td>s</td>\n",
              "      <td>w</td>\n",
              "      <td>w</td>\n",
              "      <td>p</td>\n",
              "      <td>w</td>\n",
              "      <td>o</td>\n",
              "      <td>p</td>\n",
              "      <td>w</td>\n",
              "      <td>v</td>\n",
              "      <td>d</td>\n",
              "    </tr>\n",
              "    <tr>\n",
              "      <th>freq</th>\n",
              "      <td>4208</td>\n",
              "      <td>3656</td>\n",
              "      <td>3244</td>\n",
              "      <td>2284</td>\n",
              "      <td>4748</td>\n",
              "      <td>3528</td>\n",
              "      <td>7914</td>\n",
              "      <td>6812</td>\n",
              "      <td>5612</td>\n",
              "      <td>1728</td>\n",
              "      <td>...</td>\n",
              "      <td>4936</td>\n",
              "      <td>4464</td>\n",
              "      <td>4384</td>\n",
              "      <td>8124</td>\n",
              "      <td>7924</td>\n",
              "      <td>7488</td>\n",
              "      <td>3968</td>\n",
              "      <td>2388</td>\n",
              "      <td>4040</td>\n",
              "      <td>3148</td>\n",
              "    </tr>\n",
              "  </tbody>\n",
              "</table>\n",
              "<p>4 rows × 23 columns</p>\n",
              "</div>\n",
              "      <button class=\"colab-df-convert\" onclick=\"convertToInteractive('df-f82360f7-1b17-4c15-936f-2eba0b3ca1f5')\"\n",
              "              title=\"Convert this dataframe to an interactive table.\"\n",
              "              style=\"display:none;\">\n",
              "        \n",
              "  <svg xmlns=\"http://www.w3.org/2000/svg\" height=\"24px\"viewBox=\"0 0 24 24\"\n",
              "       width=\"24px\">\n",
              "    <path d=\"M0 0h24v24H0V0z\" fill=\"none\"/>\n",
              "    <path d=\"M18.56 5.44l.94 2.06.94-2.06 2.06-.94-2.06-.94-.94-2.06-.94 2.06-2.06.94zm-11 1L8.5 8.5l.94-2.06 2.06-.94-2.06-.94L8.5 2.5l-.94 2.06-2.06.94zm10 10l.94 2.06.94-2.06 2.06-.94-2.06-.94-.94-2.06-.94 2.06-2.06.94z\"/><path d=\"M17.41 7.96l-1.37-1.37c-.4-.4-.92-.59-1.43-.59-.52 0-1.04.2-1.43.59L10.3 9.45l-7.72 7.72c-.78.78-.78 2.05 0 2.83L4 21.41c.39.39.9.59 1.41.59.51 0 1.02-.2 1.41-.59l7.78-7.78 2.81-2.81c.8-.78.8-2.07 0-2.86zM5.41 20L4 18.59l7.72-7.72 1.47 1.35L5.41 20z\"/>\n",
              "  </svg>\n",
              "      </button>\n",
              "      \n",
              "  <style>\n",
              "    .colab-df-container {\n",
              "      display:flex;\n",
              "      flex-wrap:wrap;\n",
              "      gap: 12px;\n",
              "    }\n",
              "\n",
              "    .colab-df-convert {\n",
              "      background-color: #E8F0FE;\n",
              "      border: none;\n",
              "      border-radius: 50%;\n",
              "      cursor: pointer;\n",
              "      display: none;\n",
              "      fill: #1967D2;\n",
              "      height: 32px;\n",
              "      padding: 0 0 0 0;\n",
              "      width: 32px;\n",
              "    }\n",
              "\n",
              "    .colab-df-convert:hover {\n",
              "      background-color: #E2EBFA;\n",
              "      box-shadow: 0px 1px 2px rgba(60, 64, 67, 0.3), 0px 1px 3px 1px rgba(60, 64, 67, 0.15);\n",
              "      fill: #174EA6;\n",
              "    }\n",
              "\n",
              "    [theme=dark] .colab-df-convert {\n",
              "      background-color: #3B4455;\n",
              "      fill: #D2E3FC;\n",
              "    }\n",
              "\n",
              "    [theme=dark] .colab-df-convert:hover {\n",
              "      background-color: #434B5C;\n",
              "      box-shadow: 0px 1px 3px 1px rgba(0, 0, 0, 0.15);\n",
              "      filter: drop-shadow(0px 1px 2px rgba(0, 0, 0, 0.3));\n",
              "      fill: #FFFFFF;\n",
              "    }\n",
              "  </style>\n",
              "\n",
              "      <script>\n",
              "        const buttonEl =\n",
              "          document.querySelector('#df-f82360f7-1b17-4c15-936f-2eba0b3ca1f5 button.colab-df-convert');\n",
              "        buttonEl.style.display =\n",
              "          google.colab.kernel.accessAllowed ? 'block' : 'none';\n",
              "\n",
              "        async function convertToInteractive(key) {\n",
              "          const element = document.querySelector('#df-f82360f7-1b17-4c15-936f-2eba0b3ca1f5');\n",
              "          const dataTable =\n",
              "            await google.colab.kernel.invokeFunction('convertToInteractive',\n",
              "                                                     [key], {});\n",
              "          if (!dataTable) return;\n",
              "\n",
              "          const docLinkHtml = 'Like what you see? Visit the ' +\n",
              "            '<a target=\"_blank\" href=https://colab.research.google.com/notebooks/data_table.ipynb>data table notebook</a>'\n",
              "            + ' to learn more about interactive tables.';\n",
              "          element.innerHTML = '';\n",
              "          dataTable['output_type'] = 'display_data';\n",
              "          await google.colab.output.renderOutput(dataTable, element);\n",
              "          const docLink = document.createElement('div');\n",
              "          docLink.innerHTML = docLinkHtml;\n",
              "          element.appendChild(docLink);\n",
              "        }\n",
              "      </script>\n",
              "    </div>\n",
              "  </div>\n",
              "  "
            ]
          },
          "metadata": {},
          "execution_count": 8
        }
      ]
    },
    {
      "cell_type": "code",
      "source": [
        "df.isnull().sum()"
      ],
      "metadata": {
        "colab": {
          "base_uri": "https://localhost:8080/"
        },
        "id": "aWw9P5BuLkSR",
        "outputId": "2551c2d0-a588-4b5a-bf44-9820e58b2dd1"
      },
      "execution_count": 9,
      "outputs": [
        {
          "output_type": "execute_result",
          "data": {
            "text/plain": [
              "class                       0\n",
              "cap-shape                   0\n",
              "cap-surface                 0\n",
              "cap-color                   0\n",
              "bruises                     0\n",
              "odor                        0\n",
              "gill-attachment             0\n",
              "gill-spacing                0\n",
              "gill-size                   0\n",
              "gill-color                  0\n",
              "stalk-shape                 0\n",
              "stalk-root                  0\n",
              "stalk-surface-above-ring    0\n",
              "stalk-surface-below-ring    0\n",
              "stalk-color-above-ring      0\n",
              "stalk-color-below-ring      0\n",
              "veil-type                   0\n",
              "veil-color                  0\n",
              "ring-number                 0\n",
              "ring-type                   0\n",
              "spore-print-color           0\n",
              "population                  0\n",
              "habitat                     0\n",
              "dtype: int64"
            ]
          },
          "metadata": {},
          "execution_count": 9
        }
      ]
    },
    {
      "cell_type": "code",
      "source": [
        "df.info()"
      ],
      "metadata": {
        "colab": {
          "base_uri": "https://localhost:8080/"
        },
        "id": "4vZorPtMELTq",
        "outputId": "240a3b06-b976-4f42-ce46-a4d730337156"
      },
      "execution_count": 10,
      "outputs": [
        {
          "output_type": "stream",
          "name": "stdout",
          "text": [
            "<class 'pandas.core.frame.DataFrame'>\n",
            "RangeIndex: 8124 entries, 0 to 8123\n",
            "Data columns (total 23 columns):\n",
            " #   Column                    Non-Null Count  Dtype \n",
            "---  ------                    --------------  ----- \n",
            " 0   class                     8124 non-null   object\n",
            " 1   cap-shape                 8124 non-null   object\n",
            " 2   cap-surface               8124 non-null   object\n",
            " 3   cap-color                 8124 non-null   object\n",
            " 4   bruises                   8124 non-null   object\n",
            " 5   odor                      8124 non-null   object\n",
            " 6   gill-attachment           8124 non-null   object\n",
            " 7   gill-spacing              8124 non-null   object\n",
            " 8   gill-size                 8124 non-null   object\n",
            " 9   gill-color                8124 non-null   object\n",
            " 10  stalk-shape               8124 non-null   object\n",
            " 11  stalk-root                8124 non-null   object\n",
            " 12  stalk-surface-above-ring  8124 non-null   object\n",
            " 13  stalk-surface-below-ring  8124 non-null   object\n",
            " 14  stalk-color-above-ring    8124 non-null   object\n",
            " 15  stalk-color-below-ring    8124 non-null   object\n",
            " 16  veil-type                 8124 non-null   object\n",
            " 17  veil-color                8124 non-null   object\n",
            " 18  ring-number               8124 non-null   object\n",
            " 19  ring-type                 8124 non-null   object\n",
            " 20  spore-print-color         8124 non-null   object\n",
            " 21  population                8124 non-null   object\n",
            " 22  habitat                   8124 non-null   object\n",
            "dtypes: object(23)\n",
            "memory usage: 1.4+ MB\n"
          ]
        }
      ]
    },
    {
      "cell_type": "code",
      "source": [
        "for column in df.columns:\n",
        "  print(column, \": \", df[column].unique())"
      ],
      "metadata": {
        "colab": {
          "base_uri": "https://localhost:8080/"
        },
        "id": "qAm5JidILw8V",
        "outputId": "072bd73a-67bd-4fb8-d0da-26ca25afc06e"
      },
      "execution_count": 11,
      "outputs": [
        {
          "output_type": "stream",
          "name": "stdout",
          "text": [
            "class :  ['p' 'e']\n",
            "cap-shape :  ['x' 'b' 's' 'f' 'k' 'c']\n",
            "cap-surface :  ['s' 'y' 'f' 'g']\n",
            "cap-color :  ['n' 'y' 'w' 'g' 'e' 'p' 'b' 'u' 'c' 'r']\n",
            "bruises :  ['t' 'f']\n",
            "odor :  ['p' 'a' 'l' 'n' 'f' 'c' 'y' 's' 'm']\n",
            "gill-attachment :  ['f' 'a']\n",
            "gill-spacing :  ['c' 'w']\n",
            "gill-size :  ['n' 'b']\n",
            "gill-color :  ['k' 'n' 'g' 'p' 'w' 'h' 'u' 'e' 'b' 'r' 'y' 'o']\n",
            "stalk-shape :  ['e' 't']\n",
            "stalk-root :  ['e' 'c' 'b' 'r' '?']\n",
            "stalk-surface-above-ring :  ['s' 'f' 'k' 'y']\n",
            "stalk-surface-below-ring :  ['s' 'f' 'y' 'k']\n",
            "stalk-color-above-ring :  ['w' 'g' 'p' 'n' 'b' 'e' 'o' 'c' 'y']\n",
            "stalk-color-below-ring :  ['w' 'p' 'g' 'b' 'n' 'e' 'y' 'o' 'c']\n",
            "veil-type :  ['p']\n",
            "veil-color :  ['w' 'n' 'o' 'y']\n",
            "ring-number :  ['o' 't' 'n']\n",
            "ring-type :  ['p' 'e' 'l' 'f' 'n']\n",
            "spore-print-color :  ['k' 'n' 'u' 'h' 'w' 'r' 'o' 'y' 'b']\n",
            "population :  ['s' 'n' 'a' 'v' 'y' 'c']\n",
            "habitat :  ['u' 'g' 'm' 'd' 'p' 'w' 'l']\n"
          ]
        }
      ]
    },
    {
      "cell_type": "code",
      "source": [
        "df.nunique()"
      ],
      "metadata": {
        "colab": {
          "base_uri": "https://localhost:8080/"
        },
        "id": "x02XYKjQMKsr",
        "outputId": "7d1d4fe2-7d71-4f0b-d1fb-57f6f3b9d6f4"
      },
      "execution_count": 12,
      "outputs": [
        {
          "output_type": "execute_result",
          "data": {
            "text/plain": [
              "class                        2\n",
              "cap-shape                    6\n",
              "cap-surface                  4\n",
              "cap-color                   10\n",
              "bruises                      2\n",
              "odor                         9\n",
              "gill-attachment              2\n",
              "gill-spacing                 2\n",
              "gill-size                    2\n",
              "gill-color                  12\n",
              "stalk-shape                  2\n",
              "stalk-root                   5\n",
              "stalk-surface-above-ring     4\n",
              "stalk-surface-below-ring     4\n",
              "stalk-color-above-ring       9\n",
              "stalk-color-below-ring       9\n",
              "veil-type                    1\n",
              "veil-color                   4\n",
              "ring-number                  3\n",
              "ring-type                    5\n",
              "spore-print-color            9\n",
              "population                   6\n",
              "habitat                      7\n",
              "dtype: int64"
            ]
          },
          "metadata": {},
          "execution_count": 12
        }
      ]
    },
    {
      "cell_type": "markdown",
      "source": [
        "**Data Preprocessing**\n",
        "\n",
        "1. Feature Imputation (filling missing value)\n",
        "2. Feature Encoding (turning values into numbers)\n",
        "3. Feature Normalization or Scalling\n",
        "4. Feature Engineering\n",
        "5. Feature Selection (select the most valuable features of your datasets)\n",
        "6. Dealing with imbalances"
      ],
      "metadata": {
        "id": "OghJrAXzMqPR"
      }
    },
    {
      "cell_type": "markdown",
      "source": [
        "**Feature Imputation**"
      ],
      "metadata": {
        "id": "ItEImcMuiCOK"
      }
    },
    {
      "cell_type": "code",
      "source": [
        "df.iloc[:,0:12]"
      ],
      "metadata": {
        "colab": {
          "base_uri": "https://localhost:8080/",
          "height": 485
        },
        "id": "pxyaDIzSjfvK",
        "outputId": "26b49e5d-de50-4929-f962-276ecfcf88d7"
      },
      "execution_count": 13,
      "outputs": [
        {
          "output_type": "execute_result",
          "data": {
            "text/plain": [
              "     class cap-shape cap-surface cap-color bruises odor gill-attachment  \\\n",
              "0        p         x           s         n       t    p               f   \n",
              "1        e         x           s         y       t    a               f   \n",
              "2        e         b           s         w       t    l               f   \n",
              "3        p         x           y         w       t    p               f   \n",
              "4        e         x           s         g       f    n               f   \n",
              "...    ...       ...         ...       ...     ...  ...             ...   \n",
              "8119     e         k           s         n       f    n               a   \n",
              "8120     e         x           s         n       f    n               a   \n",
              "8121     e         f           s         n       f    n               a   \n",
              "8122     p         k           y         n       f    y               f   \n",
              "8123     e         x           s         n       f    n               a   \n",
              "\n",
              "     gill-spacing gill-size gill-color stalk-shape stalk-root  \n",
              "0               c         n          k           e          e  \n",
              "1               c         b          k           e          c  \n",
              "2               c         b          n           e          c  \n",
              "3               c         n          n           e          e  \n",
              "4               w         b          k           t          e  \n",
              "...           ...       ...        ...         ...        ...  \n",
              "8119            c         b          y           e          ?  \n",
              "8120            c         b          y           e          ?  \n",
              "8121            c         b          n           e          ?  \n",
              "8122            c         n          b           t          ?  \n",
              "8123            c         b          y           e          ?  \n",
              "\n",
              "[8124 rows x 12 columns]"
            ],
            "text/html": [
              "\n",
              "  <div id=\"df-c368ea25-c7a1-45a2-a03c-9f767c609908\">\n",
              "    <div class=\"colab-df-container\">\n",
              "      <div>\n",
              "<style scoped>\n",
              "    .dataframe tbody tr th:only-of-type {\n",
              "        vertical-align: middle;\n",
              "    }\n",
              "\n",
              "    .dataframe tbody tr th {\n",
              "        vertical-align: top;\n",
              "    }\n",
              "\n",
              "    .dataframe thead th {\n",
              "        text-align: right;\n",
              "    }\n",
              "</style>\n",
              "<table border=\"1\" class=\"dataframe\">\n",
              "  <thead>\n",
              "    <tr style=\"text-align: right;\">\n",
              "      <th></th>\n",
              "      <th>class</th>\n",
              "      <th>cap-shape</th>\n",
              "      <th>cap-surface</th>\n",
              "      <th>cap-color</th>\n",
              "      <th>bruises</th>\n",
              "      <th>odor</th>\n",
              "      <th>gill-attachment</th>\n",
              "      <th>gill-spacing</th>\n",
              "      <th>gill-size</th>\n",
              "      <th>gill-color</th>\n",
              "      <th>stalk-shape</th>\n",
              "      <th>stalk-root</th>\n",
              "    </tr>\n",
              "  </thead>\n",
              "  <tbody>\n",
              "    <tr>\n",
              "      <th>0</th>\n",
              "      <td>p</td>\n",
              "      <td>x</td>\n",
              "      <td>s</td>\n",
              "      <td>n</td>\n",
              "      <td>t</td>\n",
              "      <td>p</td>\n",
              "      <td>f</td>\n",
              "      <td>c</td>\n",
              "      <td>n</td>\n",
              "      <td>k</td>\n",
              "      <td>e</td>\n",
              "      <td>e</td>\n",
              "    </tr>\n",
              "    <tr>\n",
              "      <th>1</th>\n",
              "      <td>e</td>\n",
              "      <td>x</td>\n",
              "      <td>s</td>\n",
              "      <td>y</td>\n",
              "      <td>t</td>\n",
              "      <td>a</td>\n",
              "      <td>f</td>\n",
              "      <td>c</td>\n",
              "      <td>b</td>\n",
              "      <td>k</td>\n",
              "      <td>e</td>\n",
              "      <td>c</td>\n",
              "    </tr>\n",
              "    <tr>\n",
              "      <th>2</th>\n",
              "      <td>e</td>\n",
              "      <td>b</td>\n",
              "      <td>s</td>\n",
              "      <td>w</td>\n",
              "      <td>t</td>\n",
              "      <td>l</td>\n",
              "      <td>f</td>\n",
              "      <td>c</td>\n",
              "      <td>b</td>\n",
              "      <td>n</td>\n",
              "      <td>e</td>\n",
              "      <td>c</td>\n",
              "    </tr>\n",
              "    <tr>\n",
              "      <th>3</th>\n",
              "      <td>p</td>\n",
              "      <td>x</td>\n",
              "      <td>y</td>\n",
              "      <td>w</td>\n",
              "      <td>t</td>\n",
              "      <td>p</td>\n",
              "      <td>f</td>\n",
              "      <td>c</td>\n",
              "      <td>n</td>\n",
              "      <td>n</td>\n",
              "      <td>e</td>\n",
              "      <td>e</td>\n",
              "    </tr>\n",
              "    <tr>\n",
              "      <th>4</th>\n",
              "      <td>e</td>\n",
              "      <td>x</td>\n",
              "      <td>s</td>\n",
              "      <td>g</td>\n",
              "      <td>f</td>\n",
              "      <td>n</td>\n",
              "      <td>f</td>\n",
              "      <td>w</td>\n",
              "      <td>b</td>\n",
              "      <td>k</td>\n",
              "      <td>t</td>\n",
              "      <td>e</td>\n",
              "    </tr>\n",
              "    <tr>\n",
              "      <th>...</th>\n",
              "      <td>...</td>\n",
              "      <td>...</td>\n",
              "      <td>...</td>\n",
              "      <td>...</td>\n",
              "      <td>...</td>\n",
              "      <td>...</td>\n",
              "      <td>...</td>\n",
              "      <td>...</td>\n",
              "      <td>...</td>\n",
              "      <td>...</td>\n",
              "      <td>...</td>\n",
              "      <td>...</td>\n",
              "    </tr>\n",
              "    <tr>\n",
              "      <th>8119</th>\n",
              "      <td>e</td>\n",
              "      <td>k</td>\n",
              "      <td>s</td>\n",
              "      <td>n</td>\n",
              "      <td>f</td>\n",
              "      <td>n</td>\n",
              "      <td>a</td>\n",
              "      <td>c</td>\n",
              "      <td>b</td>\n",
              "      <td>y</td>\n",
              "      <td>e</td>\n",
              "      <td>?</td>\n",
              "    </tr>\n",
              "    <tr>\n",
              "      <th>8120</th>\n",
              "      <td>e</td>\n",
              "      <td>x</td>\n",
              "      <td>s</td>\n",
              "      <td>n</td>\n",
              "      <td>f</td>\n",
              "      <td>n</td>\n",
              "      <td>a</td>\n",
              "      <td>c</td>\n",
              "      <td>b</td>\n",
              "      <td>y</td>\n",
              "      <td>e</td>\n",
              "      <td>?</td>\n",
              "    </tr>\n",
              "    <tr>\n",
              "      <th>8121</th>\n",
              "      <td>e</td>\n",
              "      <td>f</td>\n",
              "      <td>s</td>\n",
              "      <td>n</td>\n",
              "      <td>f</td>\n",
              "      <td>n</td>\n",
              "      <td>a</td>\n",
              "      <td>c</td>\n",
              "      <td>b</td>\n",
              "      <td>n</td>\n",
              "      <td>e</td>\n",
              "      <td>?</td>\n",
              "    </tr>\n",
              "    <tr>\n",
              "      <th>8122</th>\n",
              "      <td>p</td>\n",
              "      <td>k</td>\n",
              "      <td>y</td>\n",
              "      <td>n</td>\n",
              "      <td>f</td>\n",
              "      <td>y</td>\n",
              "      <td>f</td>\n",
              "      <td>c</td>\n",
              "      <td>n</td>\n",
              "      <td>b</td>\n",
              "      <td>t</td>\n",
              "      <td>?</td>\n",
              "    </tr>\n",
              "    <tr>\n",
              "      <th>8123</th>\n",
              "      <td>e</td>\n",
              "      <td>x</td>\n",
              "      <td>s</td>\n",
              "      <td>n</td>\n",
              "      <td>f</td>\n",
              "      <td>n</td>\n",
              "      <td>a</td>\n",
              "      <td>c</td>\n",
              "      <td>b</td>\n",
              "      <td>y</td>\n",
              "      <td>e</td>\n",
              "      <td>?</td>\n",
              "    </tr>\n",
              "  </tbody>\n",
              "</table>\n",
              "<p>8124 rows × 12 columns</p>\n",
              "</div>\n",
              "      <button class=\"colab-df-convert\" onclick=\"convertToInteractive('df-c368ea25-c7a1-45a2-a03c-9f767c609908')\"\n",
              "              title=\"Convert this dataframe to an interactive table.\"\n",
              "              style=\"display:none;\">\n",
              "        \n",
              "  <svg xmlns=\"http://www.w3.org/2000/svg\" height=\"24px\"viewBox=\"0 0 24 24\"\n",
              "       width=\"24px\">\n",
              "    <path d=\"M0 0h24v24H0V0z\" fill=\"none\"/>\n",
              "    <path d=\"M18.56 5.44l.94 2.06.94-2.06 2.06-.94-2.06-.94-.94-2.06-.94 2.06-2.06.94zm-11 1L8.5 8.5l.94-2.06 2.06-.94-2.06-.94L8.5 2.5l-.94 2.06-2.06.94zm10 10l.94 2.06.94-2.06 2.06-.94-2.06-.94-.94-2.06-.94 2.06-2.06.94z\"/><path d=\"M17.41 7.96l-1.37-1.37c-.4-.4-.92-.59-1.43-.59-.52 0-1.04.2-1.43.59L10.3 9.45l-7.72 7.72c-.78.78-.78 2.05 0 2.83L4 21.41c.39.39.9.59 1.41.59.51 0 1.02-.2 1.41-.59l7.78-7.78 2.81-2.81c.8-.78.8-2.07 0-2.86zM5.41 20L4 18.59l7.72-7.72 1.47 1.35L5.41 20z\"/>\n",
              "  </svg>\n",
              "      </button>\n",
              "      \n",
              "  <style>\n",
              "    .colab-df-container {\n",
              "      display:flex;\n",
              "      flex-wrap:wrap;\n",
              "      gap: 12px;\n",
              "    }\n",
              "\n",
              "    .colab-df-convert {\n",
              "      background-color: #E8F0FE;\n",
              "      border: none;\n",
              "      border-radius: 50%;\n",
              "      cursor: pointer;\n",
              "      display: none;\n",
              "      fill: #1967D2;\n",
              "      height: 32px;\n",
              "      padding: 0 0 0 0;\n",
              "      width: 32px;\n",
              "    }\n",
              "\n",
              "    .colab-df-convert:hover {\n",
              "      background-color: #E2EBFA;\n",
              "      box-shadow: 0px 1px 2px rgba(60, 64, 67, 0.3), 0px 1px 3px 1px rgba(60, 64, 67, 0.15);\n",
              "      fill: #174EA6;\n",
              "    }\n",
              "\n",
              "    [theme=dark] .colab-df-convert {\n",
              "      background-color: #3B4455;\n",
              "      fill: #D2E3FC;\n",
              "    }\n",
              "\n",
              "    [theme=dark] .colab-df-convert:hover {\n",
              "      background-color: #434B5C;\n",
              "      box-shadow: 0px 1px 3px 1px rgba(0, 0, 0, 0.15);\n",
              "      filter: drop-shadow(0px 1px 2px rgba(0, 0, 0, 0.3));\n",
              "      fill: #FFFFFF;\n",
              "    }\n",
              "  </style>\n",
              "\n",
              "      <script>\n",
              "        const buttonEl =\n",
              "          document.querySelector('#df-c368ea25-c7a1-45a2-a03c-9f767c609908 button.colab-df-convert');\n",
              "        buttonEl.style.display =\n",
              "          google.colab.kernel.accessAllowed ? 'block' : 'none';\n",
              "\n",
              "        async function convertToInteractive(key) {\n",
              "          const element = document.querySelector('#df-c368ea25-c7a1-45a2-a03c-9f767c609908');\n",
              "          const dataTable =\n",
              "            await google.colab.kernel.invokeFunction('convertToInteractive',\n",
              "                                                     [key], {});\n",
              "          if (!dataTable) return;\n",
              "\n",
              "          const docLinkHtml = 'Like what you see? Visit the ' +\n",
              "            '<a target=\"_blank\" href=https://colab.research.google.com/notebooks/data_table.ipynb>data table notebook</a>'\n",
              "            + ' to learn more about interactive tables.';\n",
              "          element.innerHTML = '';\n",
              "          dataTable['output_type'] = 'display_data';\n",
              "          await google.colab.output.renderOutput(dataTable, element);\n",
              "          const docLink = document.createElement('div');\n",
              "          docLink.innerHTML = docLinkHtml;\n",
              "          element.appendChild(docLink);\n",
              "        }\n",
              "      </script>\n",
              "    </div>\n",
              "  </div>\n",
              "  "
            ]
          },
          "metadata": {},
          "execution_count": 13
        }
      ]
    },
    {
      "cell_type": "code",
      "source": [
        "# There are some missing values in \"stalk-root\" feature\n",
        "df['stalk-root'][df['stalk-root']=='?']"
      ],
      "metadata": {
        "colab": {
          "base_uri": "https://localhost:8080/"
        },
        "id": "o2yDZIHXhVdf",
        "outputId": "06e39b02-2dbf-435c-e7cd-f7dbcb7d2566"
      },
      "execution_count": 14,
      "outputs": [
        {
          "output_type": "execute_result",
          "data": {
            "text/plain": [
              "3984    ?\n",
              "4023    ?\n",
              "4076    ?\n",
              "4100    ?\n",
              "4104    ?\n",
              "       ..\n",
              "8119    ?\n",
              "8120    ?\n",
              "8121    ?\n",
              "8122    ?\n",
              "8123    ?\n",
              "Name: stalk-root, Length: 2480, dtype: object"
            ]
          },
          "metadata": {},
          "execution_count": 14
        }
      ]
    },
    {
      "cell_type": "code",
      "source": [
        "(len(df[df['stalk-root']=='?'])/len(df))*100"
      ],
      "metadata": {
        "colab": {
          "base_uri": "https://localhost:8080/"
        },
        "id": "_2n5mKCvjssa",
        "outputId": "738e164a-6ba5-4ad9-a263-6814877e7a25"
      },
      "execution_count": 15,
      "outputs": [
        {
          "output_type": "execute_result",
          "data": {
            "text/plain": [
              "30.526834071885773"
            ]
          },
          "metadata": {},
          "execution_count": 15
        }
      ]
    },
    {
      "cell_type": "code",
      "source": [
        "# About 30.52% information of stalk-root is missing."
      ],
      "metadata": {
        "id": "Y__ng3Jdld-T"
      },
      "execution_count": 78,
      "outputs": []
    },
    {
      "cell_type": "code",
      "source": [
        "pip install ipympl"
      ],
      "metadata": {
        "id": "dZmHQx1GqHHa"
      },
      "execution_count": null,
      "outputs": []
    },
    {
      "cell_type": "code",
      "source": [
        "import matplotlib.pyplot as plt\n",
        "import seaborn as sns\n",
        "\n",
        "plt.figure(figsize=(12,7),dpi=70)\n",
        "ax=sns.countplot(data=df[df['stalk-root']=='?'], x='class')\n",
        "ax.bar_label(ax.containers[0])\n",
        "plt.show()"
      ],
      "metadata": {
        "colab": {
          "base_uri": "https://localhost:8080/",
          "height": 579,
          "referenced_widgets": [
            "467275102672409ea97713c1cdcdca95",
            "13413ea1030941c5a0f98e7718f69a83",
            "ac58d9a7279d40d8a5d6731705ae7af3",
            "1c8c0fef01c24414b3f0c4917e7f5dd6",
            "0c330578d46a433eb569c46d30e8dfb6",
            "d79b365ee0ad4dd8b44a04bb41be9275"
          ]
        },
        "id": "xKYU-fT2lk-5",
        "outputId": "4e0ced67-ef82-41d2-c928-04882146461d"
      },
      "execution_count": 24,
      "outputs": [
        {
          "output_type": "display_data",
          "data": {
            "text/plain": [
              "Canvas(toolbar=Toolbar(toolitems=[('Home', 'Reset original view', 'home', 'home'), ('Back', 'Back to previous …"
            ],
            "image/png": "[encoded data removed]",
            "text/html": [
              "\n",
              "            <div style=\"display: inline-block;\">\n",
              "                <div class=\"jupyter-widgets widget-label\" style=\"text-align: center;\">\n",
              "                    Figure\n",
              "                </div>\n",
              "                <img src='data:image/png;base64,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' width=840.0/>\n",
              "            </div>\n",
              "        "
            ],
            "application/vnd.jupyter.widget-view+json": {
              "version_major": 2,
              "version_minor": 0,
              "model_id": "467275102672409ea97713c1cdcdca95"
            }
          },
          "metadata": {
            "application/vnd.jupyter.widget-view+json": {
              "colab": {
                "custom_widget_manager": {
                  "url": "https://ssl.gstatic.com/colaboratory-static/widgets/colab-cdn-widget-manager/d2e234f7cc04bf79/manager.min.js"
                }
              }
            }
          }
        }
      ]
    },
    {
      "cell_type": "code",
      "source": [
        "#out of 2480 of missing values, 1760 belongs to poisonous class and 720 belongs to edible class"
      ],
      "metadata": {
        "id": "FD_nVuPWrdaj"
      },
      "execution_count": null,
      "outputs": []
    },
    {
      "cell_type": "code",
      "source": [
        "df['stalk-root'].value_counts()"
      ],
      "metadata": {
        "colab": {
          "base_uri": "https://localhost:8080/"
        },
        "id": "T4vidZhrrU1m",
        "outputId": "f4aa393f-a7e6-40e5-acf3-86ad138a8241"
      },
      "execution_count": 23,
      "outputs": [
        {
          "output_type": "execute_result",
          "data": {
            "text/plain": [
              "b    3776\n",
              "?    2480\n",
              "e    1120\n",
              "c     556\n",
              "r     192\n",
              "Name: stalk-root, dtype: int64"
            ]
          },
          "metadata": {},
          "execution_count": 23
        }
      ]
    },
    {
      "cell_type": "code",
      "source": [
        "plt.figure(figsize=(12,7),dpi=70)\n",
        "ax=sns.countplot(data=df,x='stalk-root',hue='class')\n",
        "for i in ax.containers:\n",
        "    ax.bar_label(i,)"
      ],
      "metadata": {
        "colab": {
          "base_uri": "https://localhost:8080/",
          "height": 579,
          "referenced_widgets": [
            "84b37439c960419681719ecace6880d4",
            "e0e0d68dece349c297638f2bacbd183e",
            "7ca18ab44a6c472ebf77403a97f52e56",
            "d1f7e168611141cbbf5aa9efd957ac5a",
            "e34ddeb25f05429aa347d07ec7393b00",
            "10246b41aa594afaa4a89aa8d97d4b91"
          ]
        },
        "id": "wUSVa7actTu6",
        "outputId": "7b988ebd-c4b6-424f-8d7d-d240623cec63"
      },
      "execution_count": 26,
      "outputs": [
        {
          "output_type": "display_data",
          "data": {
            "text/plain": [
              "Canvas(toolbar=Toolbar(toolitems=[('Home', 'Reset original view', 'home', 'home'), ('Back', 'Back to previous …"
            ],
            "image/png": "[encoded data removed]",
            "text/html": [
              "\n",
              "            <div style=\"display: inline-block;\">\n",
              "                <div class=\"jupyter-widgets widget-label\" style=\"text-align: center;\">\n",
              "                    Figure\n",
              "                </div>\n",
              "                <img src='data:image/png;base64,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' width=840.0/>\n",
              "            </div>\n",
              "        "
            ],
            "application/vnd.jupyter.widget-view+json": {
              "version_major": 2,
              "version_minor": 0,
              "model_id": "84b37439c960419681719ecace6880d4"
            }
          },
          "metadata": {
            "application/vnd.jupyter.widget-view+json": {
              "colab": {
                "custom_widget_manager": {
                  "url": "https://ssl.gstatic.com/colaboratory-static/widgets/colab-cdn-widget-manager/d2e234f7cc04bf79/manager.min.js"
                }
              }
            }
          }
        }
      ]
    },
    {
      "cell_type": "code",
      "source": [
        "# Conclusion:\n",
        "# 1. 2480 rows (i.e 30% data) in stalk-root feature are missing\n",
        "# 2. out of them 1760 (71% of data) belongs to poisonous class & 720 (29% of data) belongs to edible\n",
        "# 3. Highest occurance of stalk-root values is 'b'\n",
        "# 4. out of 8124, 3776 (46%) values are of 'b', \n",
        "# 5. out of 3776 of 'b's, there are 1856 'poisonous' and 1920 'edible'"
      ],
      "metadata": {
        "id": "fnDwdalLt4G7"
      },
      "execution_count": null,
      "outputs": []
    },
    {
      "cell_type": "code",
      "source": [
        "# filling missing values with 'b'\n",
        "df['stalk-root']=df['stalk-root'].replace('?',df['stalk-root'].mode()[0])"
      ],
      "metadata": {
        "id": "vult_kexutYn"
      },
      "execution_count": 27,
      "outputs": []
    },
    {
      "cell_type": "code",
      "source": [
        "df['stalk-root']"
      ],
      "metadata": {
        "colab": {
          "base_uri": "https://localhost:8080/"
        },
        "id": "q-4wn7fCu1O_",
        "outputId": "78996772-bb76-46d4-bf43-f516a08f9145"
      },
      "execution_count": 29,
      "outputs": [
        {
          "output_type": "execute_result",
          "data": {
            "text/plain": [
              "0       e\n",
              "1       c\n",
              "2       c\n",
              "3       e\n",
              "4       e\n",
              "       ..\n",
              "8119    b\n",
              "8120    b\n",
              "8121    b\n",
              "8122    b\n",
              "8123    b\n",
              "Name: stalk-root, Length: 8124, dtype: object"
            ]
          },
          "metadata": {},
          "execution_count": 29
        }
      ]
    },
    {
      "cell_type": "code",
      "source": [
        "df['stalk-root'].unique()"
      ],
      "metadata": {
        "colab": {
          "base_uri": "https://localhost:8080/"
        },
        "id": "e38WD8ADu8fP",
        "outputId": "2e8870b9-1d40-4394-f765-440bb8d7b41a"
      },
      "execution_count": 30,
      "outputs": [
        {
          "output_type": "execute_result",
          "data": {
            "text/plain": [
              "array(['e', 'c', 'b', 'r'], dtype=object)"
            ]
          },
          "metadata": {},
          "execution_count": 30
        }
      ]
    },
    {
      "cell_type": "markdown",
      "source": [
        "**Feature Encoding**"
      ],
      "metadata": {
        "id": "H7fDehoqvKJf"
      }
    },
    {
      "cell_type": "code",
      "source": [
        "# Turn labels into distinct numerical values by using label encoder\n",
        "\n",
        "from sklearn.preprocessing import LabelEncoder\n",
        "def label_encoding(c):\n",
        "    le = LabelEncoder()\n",
        "    df[c] = le.fit_transform(df[c])\n",
        "    df[c].unique()\n",
        "for col in df.columns:\n",
        "    label_encoding(col)\n",
        "df.head()"
      ],
      "metadata": {
        "colab": {
          "base_uri": "https://localhost:8080/",
          "height": 351
        },
        "id": "Vn6ByNytvTlA",
        "outputId": "79c87da2-3833-4e04-8099-335ebdf6df93"
      },
      "execution_count": 31,
      "outputs": [
        {
          "output_type": "execute_result",
          "data": {
            "text/plain": [
              "   class  cap-shape  cap-surface  cap-color  bruises  odor  gill-attachment  \\\n",
              "0      1          5            2          4        1     6                1   \n",
              "1      0          5            2          9        1     0                1   \n",
              "2      0          0            2          8        1     3                1   \n",
              "3      1          5            3          8        1     6                1   \n",
              "4      0          5            2          3        0     5                1   \n",
              "\n",
              "   gill-spacing  gill-size  gill-color  ...  stalk-surface-below-ring  \\\n",
              "0             0          1           4  ...                         2   \n",
              "1             0          0           4  ...                         2   \n",
              "2             0          0           5  ...                         2   \n",
              "3             0          1           5  ...                         2   \n",
              "4             1          0           4  ...                         2   \n",
              "\n",
              "   stalk-color-above-ring  stalk-color-below-ring  veil-type  veil-color  \\\n",
              "0                       7                       7          0           2   \n",
              "1                       7                       7          0           2   \n",
              "2                       7                       7          0           2   \n",
              "3                       7                       7          0           2   \n",
              "4                       7                       7          0           2   \n",
              "\n",
              "   ring-number  ring-type  spore-print-color  population  habitat  \n",
              "0            1          4                  2           3        5  \n",
              "1            1          4                  3           2        1  \n",
              "2            1          4                  3           2        3  \n",
              "3            1          4                  2           3        5  \n",
              "4            1          0                  3           0        1  \n",
              "\n",
              "[5 rows x 23 columns]"
            ],
            "text/html": [
              "\n",
              "  <div id=\"df-996fc1a9-37e5-4157-bd29-f266700c1711\">\n",
              "    <div class=\"colab-df-container\">\n",
              "      <div>\n",
              "<style scoped>\n",
              "    .dataframe tbody tr th:only-of-type {\n",
              "        vertical-align: middle;\n",
              "    }\n",
              "\n",
              "    .dataframe tbody tr th {\n",
              "        vertical-align: top;\n",
              "    }\n",
              "\n",
              "    .dataframe thead th {\n",
              "        text-align: right;\n",
              "    }\n",
              "</style>\n",
              "<table border=\"1\" class=\"dataframe\">\n",
              "  <thead>\n",
              "    <tr style=\"text-align: right;\">\n",
              "      <th></th>\n",
              "      <th>class</th>\n",
              "      <th>cap-shape</th>\n",
              "      <th>cap-surface</th>\n",
              "      <th>cap-color</th>\n",
              "      <th>bruises</th>\n",
              "      <th>odor</th>\n",
              "      <th>gill-attachment</th>\n",
              "      <th>gill-spacing</th>\n",
              "      <th>gill-size</th>\n",
              "      <th>gill-color</th>\n",
              "      <th>...</th>\n",
              "      <th>stalk-surface-below-ring</th>\n",
              "      <th>stalk-color-above-ring</th>\n",
              "      <th>stalk-color-below-ring</th>\n",
              "      <th>veil-type</th>\n",
              "      <th>veil-color</th>\n",
              "      <th>ring-number</th>\n",
              "      <th>ring-type</th>\n",
              "      <th>spore-print-color</th>\n",
              "      <th>population</th>\n",
              "      <th>habitat</th>\n",
              "    </tr>\n",
              "  </thead>\n",
              "  <tbody>\n",
              "    <tr>\n",
              "      <th>0</th>\n",
              "      <td>1</td>\n",
              "      <td>5</td>\n",
              "      <td>2</td>\n",
              "      <td>4</td>\n",
              "      <td>1</td>\n",
              "      <td>6</td>\n",
              "      <td>1</td>\n",
              "      <td>0</td>\n",
              "      <td>1</td>\n",
              "      <td>4</td>\n",
              "      <td>...</td>\n",
              "      <td>2</td>\n",
              "      <td>7</td>\n",
              "      <td>7</td>\n",
              "      <td>0</td>\n",
              "      <td>2</td>\n",
              "      <td>1</td>\n",
              "      <td>4</td>\n",
              "      <td>2</td>\n",
              "      <td>3</td>\n",
              "      <td>5</td>\n",
              "    </tr>\n",
              "    <tr>\n",
              "      <th>1</th>\n",
              "      <td>0</td>\n",
              "      <td>5</td>\n",
              "      <td>2</td>\n",
              "      <td>9</td>\n",
              "      <td>1</td>\n",
              "      <td>0</td>\n",
              "      <td>1</td>\n",
              "      <td>0</td>\n",
              "      <td>0</td>\n",
              "      <td>4</td>\n",
              "      <td>...</td>\n",
              "      <td>2</td>\n",
              "      <td>7</td>\n",
              "      <td>7</td>\n",
              "      <td>0</td>\n",
              "      <td>2</td>\n",
              "      <td>1</td>\n",
              "      <td>4</td>\n",
              "      <td>3</td>\n",
              "      <td>2</td>\n",
              "      <td>1</td>\n",
              "    </tr>\n",
              "    <tr>\n",
              "      <th>2</th>\n",
              "      <td>0</td>\n",
              "      <td>0</td>\n",
              "      <td>2</td>\n",
              "      <td>8</td>\n",
              "      <td>1</td>\n",
              "      <td>3</td>\n",
              "      <td>1</td>\n",
              "      <td>0</td>\n",
              "      <td>0</td>\n",
              "      <td>5</td>\n",
              "      <td>...</td>\n",
              "      <td>2</td>\n",
              "      <td>7</td>\n",
              "      <td>7</td>\n",
              "      <td>0</td>\n",
              "      <td>2</td>\n",
              "      <td>1</td>\n",
              "      <td>4</td>\n",
              "      <td>3</td>\n",
              "      <td>2</td>\n",
              "      <td>3</td>\n",
              "    </tr>\n",
              "    <tr>\n",
              "      <th>3</th>\n",
              "      <td>1</td>\n",
              "      <td>5</td>\n",
              "      <td>3</td>\n",
              "      <td>8</td>\n",
              "      <td>1</td>\n",
              "      <td>6</td>\n",
              "      <td>1</td>\n",
              "      <td>0</td>\n",
              "      <td>1</td>\n",
              "      <td>5</td>\n",
              "      <td>...</td>\n",
              "      <td>2</td>\n",
              "      <td>7</td>\n",
              "      <td>7</td>\n",
              "      <td>0</td>\n",
              "      <td>2</td>\n",
              "      <td>1</td>\n",
              "      <td>4</td>\n",
              "      <td>2</td>\n",
              "      <td>3</td>\n",
              "      <td>5</td>\n",
              "    </tr>\n",
              "    <tr>\n",
              "      <th>4</th>\n",
              "      <td>0</td>\n",
              "      <td>5</td>\n",
              "      <td>2</td>\n",
              "      <td>3</td>\n",
              "      <td>0</td>\n",
              "      <td>5</td>\n",
              "      <td>1</td>\n",
              "      <td>1</td>\n",
              "      <td>0</td>\n",
              "      <td>4</td>\n",
              "      <td>...</td>\n",
              "      <td>2</td>\n",
              "      <td>7</td>\n",
              "      <td>7</td>\n",
              "      <td>0</td>\n",
              "      <td>2</td>\n",
              "      <td>1</td>\n",
              "      <td>0</td>\n",
              "      <td>3</td>\n",
              "      <td>0</td>\n",
              "      <td>1</td>\n",
              "    </tr>\n",
              "  </tbody>\n",
              "</table>\n",
              "<p>5 rows × 23 columns</p>\n",
              "</div>\n",
              "      <button class=\"colab-df-convert\" onclick=\"convertToInteractive('df-996fc1a9-37e5-4157-bd29-f266700c1711')\"\n",
              "              title=\"Convert this dataframe to an interactive table.\"\n",
              "              style=\"display:none;\">\n",
              "        \n",
              "  <svg xmlns=\"http://www.w3.org/2000/svg\" height=\"24px\"viewBox=\"0 0 24 24\"\n",
              "       width=\"24px\">\n",
              "    <path d=\"M0 0h24v24H0V0z\" fill=\"none\"/>\n",
              "    <path d=\"M18.56 5.44l.94 2.06.94-2.06 2.06-.94-2.06-.94-.94-2.06-.94 2.06-2.06.94zm-11 1L8.5 8.5l.94-2.06 2.06-.94-2.06-.94L8.5 2.5l-.94 2.06-2.06.94zm10 10l.94 2.06.94-2.06 2.06-.94-2.06-.94-.94-2.06-.94 2.06-2.06.94z\"/><path d=\"M17.41 7.96l-1.37-1.37c-.4-.4-.92-.59-1.43-.59-.52 0-1.04.2-1.43.59L10.3 9.45l-7.72 7.72c-.78.78-.78 2.05 0 2.83L4 21.41c.39.39.9.59 1.41.59.51 0 1.02-.2 1.41-.59l7.78-7.78 2.81-2.81c.8-.78.8-2.07 0-2.86zM5.41 20L4 18.59l7.72-7.72 1.47 1.35L5.41 20z\"/>\n",
              "  </svg>\n",
              "      </button>\n",
              "      \n",
              "  <style>\n",
              "    .colab-df-container {\n",
              "      display:flex;\n",
              "      flex-wrap:wrap;\n",
              "      gap: 12px;\n",
              "    }\n",
              "\n",
              "    .colab-df-convert {\n",
              "      background-color: #E8F0FE;\n",
              "      border: none;\n",
              "      border-radius: 50%;\n",
              "      cursor: pointer;\n",
              "      display: none;\n",
              "      fill: #1967D2;\n",
              "      height: 32px;\n",
              "      padding: 0 0 0 0;\n",
              "      width: 32px;\n",
              "    }\n",
              "\n",
              "    .colab-df-convert:hover {\n",
              "      background-color: #E2EBFA;\n",
              "      box-shadow: 0px 1px 2px rgba(60, 64, 67, 0.3), 0px 1px 3px 1px rgba(60, 64, 67, 0.15);\n",
              "      fill: #174EA6;\n",
              "    }\n",
              "\n",
              "    [theme=dark] .colab-df-convert {\n",
              "      background-color: #3B4455;\n",
              "      fill: #D2E3FC;\n",
              "    }\n",
              "\n",
              "    [theme=dark] .colab-df-convert:hover {\n",
              "      background-color: #434B5C;\n",
              "      box-shadow: 0px 1px 3px 1px rgba(0, 0, 0, 0.15);\n",
              "      filter: drop-shadow(0px 1px 2px rgba(0, 0, 0, 0.3));\n",
              "      fill: #FFFFFF;\n",
              "    }\n",
              "  </style>\n",
              "\n",
              "      <script>\n",
              "        const buttonEl =\n",
              "          document.querySelector('#df-996fc1a9-37e5-4157-bd29-f266700c1711 button.colab-df-convert');\n",
              "        buttonEl.style.display =\n",
              "          google.colab.kernel.accessAllowed ? 'block' : 'none';\n",
              "\n",
              "        async function convertToInteractive(key) {\n",
              "          const element = document.querySelector('#df-996fc1a9-37e5-4157-bd29-f266700c1711');\n",
              "          const dataTable =\n",
              "            await google.colab.kernel.invokeFunction('convertToInteractive',\n",
              "                                                     [key], {});\n",
              "          if (!dataTable) return;\n",
              "\n",
              "          const docLinkHtml = 'Like what you see? Visit the ' +\n",
              "            '<a target=\"_blank\" href=https://colab.research.google.com/notebooks/data_table.ipynb>data table notebook</a>'\n",
              "            + ' to learn more about interactive tables.';\n",
              "          element.innerHTML = '';\n",
              "          dataTable['output_type'] = 'display_data';\n",
              "          await google.colab.output.renderOutput(dataTable, element);\n",
              "          const docLink = document.createElement('div');\n",
              "          docLink.innerHTML = docLinkHtml;\n",
              "          element.appendChild(docLink);\n",
              "        }\n",
              "      </script>\n",
              "    </div>\n",
              "  </div>\n",
              "  "
            ]
          },
          "metadata": {},
          "execution_count": 31
        }
      ]
    }
  ]
}